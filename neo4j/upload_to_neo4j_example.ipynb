{
 "cells": [
  {
   "cell_type": "markdown",
   "id": "9ab090dd",
   "metadata": {},
   "source": [
    "## Preamble\n",
    "\n",
    "This file is mostly a test/proof-of-concept for some of the Neo4j module's functions.\n",
    "\n",
    "To start, we test setting up a connection to a local server. We then test the creation command's necessary to make nodes for each type of database. Lastly, we test the commands necessary to create relations between each node which is the ultimate goal of this project.\n",
    "\n",
    "Being that this is more a test or sandbox environment, we use fake data and lost of print messages to understand/manually inspect each step of the process."
   ]
  },
  {
   "cell_type": "markdown",
   "id": "d6fd64e7-c29b-40cd-ad4c-274b58971759",
   "metadata": {},
   "source": [
    "## Neo4j Setup and Basic Functions"
   ]
  },
  {
   "cell_type": "code",
   "execution_count": 1,
   "id": "5488d493-007d-4dc6-9ab1-3524a319edf4",
   "metadata": {},
   "outputs": [],
   "source": [
    "import time\n",
    "from dotenv import dotenv_values\n",
    "from neo4j import GraphDatabase\n",
    "\n",
    "# get authentication credentials.\n",
    "env_v = dotenv_values(\".env\")\n",
    "neo4j_auth = (env_v[\"neo4j_user\"], env_v[\"neo4j_pw\"])\n",
    "\n",
    "class GraphDriver:\n",
    "    def __init__(self, uri):\n",
    "        \"\"\"Creates an authorized API to neo4j server at uri.\n",
    "\n",
    "        Args:\n",
    "            uri: the to the link and port to the neo4j server.\n",
    "        \"\"\"\n",
    "        self._driver = GraphDatabase.driver(uri, auth=neo4j_auth)\n",
    "\n",
    "    def execute_command(self, cmd:str)-> bool:\n",
    "        \"\"\"Runs command on neo4j server.\n",
    "\n",
    "        Args:\n",
    "            cmd: the Cypher-formatted command to run.\n",
    "\n",
    "        Returns:\n",
    "            A boolean value specifying whether the command was run successfully.\n",
    "        \"\"\"\n",
    "        res = True\n",
    "        session = self._driver.session() \n",
    "        start = time.perf_counter()\n",
    "\n",
    "        # Attempt command.\n",
    "        try:\n",
    "            session.run(cmd)\n",
    "        except:\n",
    "            res = False\n",
    "        print(f\"Elapsed time: {round(time.perf_counter() - start, 2)} seconds.\")\n",
    "\n",
    "        return res\n",
    "\n",
    "    def execute_commands(self, cmds:list[str])-> tuple[int, list[int]]:\n",
    "        \"\"\"Runs commands passed in list.\n",
    "\n",
    "        Args:\n",
    "            cmds: a list of properly formatted Cypher commands.\n",
    "\n",
    "        Returns:\n",
    "            A tuple specifying how many commands failed and a list of the \n",
    "            indices of the failed cmds.\n",
    "            \n",
    "        Note: \n",
    "            All commands are attempted regardless of previous failure.\n",
    "        \"\"\"\n",
    "        failed_cmds = 0\n",
    "        failed_cmd_indices = []\n",
    "        session = self._driver.session() \n",
    "\n",
    "        start = time.perf_counter()\n",
    "        \n",
    "        # attempt to execute all cmds on server. \n",
    "        for i, cmd in enumerate(cmds):\n",
    "            try:\n",
    "                session.run(cmd)\n",
    "            except:\n",
    "                failed_cmds+= 1\n",
    "                failed_cmd_indices.append(i)\n",
    "                \n",
    "        print(f\"Elapsed time: {round(time.perf_counter() - start, 2)} seconds.\")\n",
    "\n",
    "        return (failed_cmds, failed_cmd_indices)\n",
    "\n",
    "    def delete_data(self):\n",
    "        \"\"\"Deletes all nodes in database.\n",
    "        \"\"\"\n",
    "        self.execute_commands([\"MATCH (n) DETACH DELETE n\"])\n"
   ]
  },
  {
   "cell_type": "markdown",
   "id": "4b10cbfa-50fd-432a-a85a-2a1d21f0aed6",
   "metadata": {},
   "source": [
    "## Cypher Command Creation"
   ]
  },
  {
   "cell_type": "code",
   "execution_count": 2,
   "id": "1691a76a-86ee-4ec1-b9f0-47b0d1a41d44",
   "metadata": {},
   "outputs": [],
   "source": [
    "def create_node(row, category:str, col_labels: list[tuple[str, type]]) -> str:\n",
    "        \"\"\"Creates a node with appropriate properties.\n",
    "\n",
    "        Args:\n",
    "            row: the data extracted from a dataframe.\n",
    "            category: the category of the data (i.e. \"predication\", \"entity\", or \"sentence\").\n",
    "            col_labels: a list of tuples specifying the labels and data type of each value.\n",
    "\n",
    "        Returns:\n",
    "            A string containing a properly formatted Cypher command.\n",
    "        \"\"\"\n",
    "\n",
    "        def _make_prop_string(label: str, val, dtype:type, last:bool) -> str:\n",
    "            \"\"\"Formats properties of Cypher Command.\n",
    "\n",
    "            Args:\n",
    "                label: the label of the passed value.\n",
    "                val: the integer or string data.\n",
    "                dtype: the type of the passed value (i.e. int or str).\n",
    "                last: whether the label & value combo are the last property values that will be\n",
    "                in the Cypher command.\n",
    "                \n",
    "            Returns:\n",
    "                A string containing the property combo in the proper format.\n",
    "            \"\"\"\n",
    "            prop_string = \"\"\n",
    "\n",
    "            # add quotations around str values.\n",
    "            if dtype == str:\n",
    "                prop_string += f\"{label.lower()}:\\\"{val}\\\"\"\n",
    "            else:\n",
    "                prop_string+= f\"{label.lower()}:{val}\"\n",
    "\n",
    "            # indicate remaining properties in command.\n",
    "            if not last:\n",
    "                prop_string+=\", \"\n",
    "            \n",
    "            return prop_string\n",
    "        \n",
    "        # create node properties in form \"prop:val, prop:val,...\"\n",
    "        # note, dask index (unimportant to us) included in row at index 0, hence index+1.\n",
    "        props = ''.join([\n",
    "            _make_prop_string(label, row[i+1], dtype, False) if label != col_labels[-1][0]\n",
    "                else _make_prop_string(label, row[i+1], dtype, True) for i, (label, dtype) in enumerate(col_labels) \n",
    "        ])\n",
    "\n",
    "        cmd = f\"CREATE(:{category.capitalize()}{{{props}}})\"\n",
    "    \n",
    "        return cmd\n",
    "\n",
    "def create_relation(cat_one:str, cat_two:str, relation:str) -> str:\n",
    "    \"\"\"Creates relations between two node categories.\n",
    "\n",
    "    Args:\n",
    "        cat_one: a string containing the category name to start the \n",
    "        relation from.\n",
    "        cat_two: a string containing the category name to direct the relation\n",
    "        to.\n",
    "        relation: a string containing the desired relation between\n",
    "        the node categories.\n",
    "    \n",
    "    Returns:\n",
    "            A string containing a properly formatted Cypher command.    \n",
    "    Note:\n",
    "        Relationship is directed from category one Node to \n",
    "        category two node based on matching \"sentence_id\" properties.\n",
    "    \"\"\"\n",
    "    # get all nodes of category one and two\n",
    "    cmd = f\"MATCH (a:{cat_one.capitalize()}), (b:{cat_two.capitalize()}) \"\n",
    "    \n",
    "    # match sentence IDd\n",
    "    cmd+= \"WHERE a.sentence_id = b.sentence_id \"\n",
    "\n",
    "    # create relation\n",
    "    cmd+= f\"MERGE (a)-[:{relation}]->(b)\"\n",
    "    \n",
    "    return cmd"
   ]
  },
  {
   "cell_type": "markdown",
   "id": "3dfff3b5-7bbe-4191-afc5-04789ecb3c45",
   "metadata": {},
   "source": [
    "## Data Setup "
   ]
  },
  {
   "cell_type": "code",
   "execution_count": 3,
   "id": "5c16d1bb-019d-4e20-882d-69337f782f1d",
   "metadata": {},
   "outputs": [
    {
     "name": "stdout",
     "output_type": "stream",
     "text": [
      "Elapsed time: 0.06 seconds.\n"
     ]
    }
   ],
   "source": [
    "import dask.dataframe as dd\n",
    "from dask.diagnostics import ProgressBar\n",
    "\n",
    "uri = \"bolt://localhost:7687\"\n",
    "\n",
    "# create driver and clear any existing nodes.\n",
    "driver = GraphDriver(uri)\n",
    "driver.delete_data()\n",
    "\n",
    "\n",
    "categories = [\"predication\", \"sentence\", \"entity\"]\n",
    "\n",
    "# column labels and data types as they appear in dataframes.\n",
    "col_labels = {\n",
    "    \"predication\": list({\n",
    "        \"PREDICATION_ID\": int,  # Auto-generated primary key for each unique predication\n",
    "        \"SENTENCE_ID\": int,     # Foreign key to the SENTENCE table\n",
    "        \"PMID\": int,            # The PubMed identifier of the citation to which the predication belongs\n",
    "        \"PREDICATE\": str,       # The string representation of each predicate (for example TREATS, PROCESS_OF)\n",
    "        \"SUBJECT_CUI\": str,     # The CUI of the subject of the predication\n",
    "        \"SUBJECT_NAME\": str,    # The preferred name of the subject of the predication\n",
    "        \"SUBJECT_SEMTYPE\": str, # The semantic type of the subject of the predication\n",
    "        \"SUBJECT_NOVELTY\": int, # The novelty of the subject of the predication\n",
    "        \"OBJECT_CUI\": str,      # The CUI of the object of the predication\n",
    "        \"OBJECT_NAME\": str,     # The preferred name of the object of the predication\n",
    "        \"OBJECT_SEMTYPE\": str,  # The semantic type of the object of the predication\n",
    "        \"OBJECT_NOVELTY\": int,  # The novelty of the object of the predication\n",
    "        }.items()),\n",
    "    \"sentence\": list({\n",
    "        \"SENTENCE_ID\": int,               # Auto-generated primary key for each sentence\n",
    "        \"PMID\": int,                      # The PubMed identifier of the citation to which the sentence belongs\n",
    "        \"TYPE\": str,                      # 'ti' for the title of the citation, 'ab' for the abstract\n",
    "        \"NUMBER\": int,                    # The location of the sentence within the title or abstract\n",
    "        \"SENT_START_INDEX\": int,          # The character position within the text of the MEDLINE citation of the first character of the sentence  NEW\n",
    "        \"SENT_END_INDEX\": int,            # The character position within the text of the MEDLINE citation of the last character of the sentence  NEW\n",
    "        \"SENTENCE\": str,                  # The actual string or text of the sentence\n",
    "        }.items()),\n",
    "    \"entity\": list({\n",
    "        \"ENTITY_ID\": int,    # Auto-generated primary key for each unique entity\n",
    "        \"SENTENCE_ID\": int,  # The foreign key to SENTENCE table\n",
    "        \"CUI\": str,          # The CUI of the entity\n",
    "        \"NAME\": str,         # The preferred name of the entity\n",
    "        \"TYPE\": str,         # The semantic type of the entity\n",
    "        \"TEXT\": str,         # The text in the utterance that maps to the entity\n",
    "        \"START_INDEX\": int,  # The first character position (in document) of the text denoting the entity\n",
    "        \"END_INDEX\": int,    # The last character position (in document) of the text denoting the entity\n",
    "        \"SCORE\": int,        # The confidence score\n",
    "        }.items()),\n",
    "}"
   ]
  },
  {
   "cell_type": "markdown",
   "id": "2ce361d9-dc89-4702-a8f8-36426599f529",
   "metadata": {},
   "source": [
    "## Spoof Data and Command Creation"
   ]
  },
  {
   "cell_type": "code",
   "execution_count": 4,
   "id": "c9a74313-3f59-4f0e-9df2-6c9ddbd4e005",
   "metadata": {},
   "outputs": [
    {
     "name": "stdout",
     "output_type": "stream",
     "text": [
      "\n",
      "--------------------Predication Cmds--------------------\n",
      "0.\tCREATE(:Predication{predication_id:1, sentence_id:6, pmid:0, predicate:\"Test Predicate 1\", subject_cui:\"Test\", subject_name:\"Test\", subject_semtype:\"Test\", subject_novelty:1, object_cui:\"Test\", object_name:\"Test\", object_semtype:\"Test\", object_novelty:1})\n",
      "\n",
      "1.\tCREATE(:Predication{predication_id:2, sentence_id:102, pmid:0, predicate:\"Test Predicate 2\", subject_cui:\"Test\", subject_name:\"Test\", subject_semtype:\"Test\", subject_novelty:1, object_cui:\"Test\", object_name:\"Test\", object_semtype:\"Test\", object_novelty:1})\n",
      "\n",
      "2.\tCREATE(:Predication{predication_id:3, sentence_id:34, pmid:0, predicate:\"Test Predicate 3\", subject_cui:\"Test\", subject_name:\"Test\", subject_semtype:\"Test\", subject_novelty:1, object_cui:\"Test\", object_name:\"Test\", object_semtype:\"Test\", object_novelty:1})\n",
      "\n",
      "3.\tCREATE(:Predication{predication_id:4, sentence_id:18, pmid:0, predicate:\"Test Predicate 4\", subject_cui:\"Test\", subject_name:\"Test\", subject_semtype:\"Test\", subject_novelty:1, object_cui:\"Test\", object_name:\"Test\", object_semtype:\"Test\", object_novelty:1})\n",
      "\n",
      "4.\tCREATE(:Predication{predication_id:5, sentence_id:82, pmid:0, predicate:\"Test Predicate 5\", subject_cui:\"Test\", subject_name:\"Test\", subject_semtype:\"Test\", subject_novelty:1, object_cui:\"Test\", object_name:\"Test\", object_semtype:\"Test\", object_novelty:1})\n",
      "\n",
      "\n",
      "--------------------Sentence Cmds--------------------\n",
      "5.\tCREATE(:Sentence{sentence_id:102, pmid:0, type:\"Test\", number:0, sent_start_index:0, sent_end_index:0, sentence:\"Test Sentence 1\"})\n",
      "\n",
      "6.\tCREATE(:Sentence{sentence_id:18, pmid:0, type:\"Test\", number:0, sent_start_index:0, sent_end_index:0, sentence:\"Test Sentence 2\"})\n",
      "\n",
      "7.\tCREATE(:Sentence{sentence_id:34, pmid:0, type:\"Test\", number:0, sent_start_index:0, sent_end_index:0, sentence:\"Test Sentence 3\"})\n",
      "\n",
      "8.\tCREATE(:Sentence{sentence_id:82, pmid:0, type:\"Test\", number:0, sent_start_index:0, sent_end_index:0, sentence:\"Test Sentence 4\"})\n",
      "\n",
      "9.\tCREATE(:Sentence{sentence_id:6, pmid:0, type:\"Test\", number:0, sent_start_index:0, sent_end_index:0, sentence:\"Test Sentence 5\"})\n",
      "\n",
      "\n",
      "--------------------Entity Cmds--------------------\n",
      "10.\tCREATE(:Entity{entity_id:1, sentence_id:82, cui:\"Test\", name:\"Test Entity 1\", type:\"Test\", text:\"Test\", start_index:0, end_index:0, score:0})\n",
      "\n",
      "11.\tCREATE(:Entity{entity_id:2, sentence_id:102, cui:\"Test\", name:\"Test Entity 2\", type:\"Test\", text:\"Test\", start_index:0, end_index:0, score:0})\n",
      "\n",
      "12.\tCREATE(:Entity{entity_id:3, sentence_id:34, cui:\"Test\", name:\"Test Entity 3\", type:\"Test\", text:\"Test\", start_index:0, end_index:0, score:0})\n",
      "\n",
      "13.\tCREATE(:Entity{entity_id:4, sentence_id:6, cui:\"Test\", name:\"Test Entity 4\", type:\"Test\", text:\"Test\", start_index:0, end_index:0, score:0})\n",
      "\n",
      "14.\tCREATE(:Entity{entity_id:5, sentence_id:18, cui:\"Test\", name:\"Test Entity 5\", type:\"Test\", text:\"Test\", start_index:0, end_index:0, score:0})\n",
      "\n",
      "\n",
      "--------------------Predication -> Sentence Cmd--------------------\n",
      "MATCH (a:Predication), (b:Sentence) WHERE a.sentence_id = b.sentence_id MERGE (a)-[:PREDICATE_OF]->(b)\n",
      "\n",
      "\n",
      "--------------------Predication -> Entity Cmd Cmd--------------------\n",
      "MATCH (a:Predication), (b:Entity) WHERE a.sentence_id = b.sentence_id MERGE (a)-[:PREDICATES]->(b)\n",
      "\n",
      "\n",
      "--------------------Entity -> Sentence Cmd--------------------\n",
      "MATCH (a:Entity), (b:Sentence) WHERE a.sentence_id = b.sentence_id MERGE (a)-[:SUBJECT_OF]->(b)\n",
      "\n"
     ]
    }
   ],
   "source": [
    "# see note in create_node. The only info we really care about is sentence ID.\n",
    "test_data = {\n",
    "    \"predication\":[\n",
    "        [None, 1, 6, 0, \"Test Predicate 1\", \"Test\", \"Test\", \"Test\", 1, \"Test\", \"Test\", \"Test\", 1 ],\n",
    "        [None, 2, 102, 0, \"Test Predicate 2\", \"Test\", \"Test\", \"Test\", 1, \"Test\", \"Test\", \"Test\", 1 ],\n",
    "        [None, 3, 34, 0, \"Test Predicate 3\", \"Test\", \"Test\", \"Test\", 1, \"Test\", \"Test\", \"Test\", 1 ],\n",
    "        [None, 4, 18, 0, \"Test Predicate 4\", \"Test\", \"Test\", \"Test\", 1, \"Test\", \"Test\", \"Test\", 1 ],\n",
    "        [None, 5, 82, 0, \"Test Predicate 5\", \"Test\", \"Test\", \"Test\", 1, \"Test\", \"Test\", \"Test\", 1 ]\n",
    "    ],\n",
    "    \"sentence\": [\n",
    "        [None, 102, 0, \"Test\", 0, 0, 0, \"Test Sentence 1\"],\n",
    "        [None, 18, 0, \"Test\", 0, 0, 0, \"Test Sentence 2\"],\n",
    "        [None, 34, 0, \"Test\", 0, 0, 0, \"Test Sentence 3\"],\n",
    "        [None, 82, 0, \"Test\", 0, 0, 0, \"Test Sentence 4\"],\n",
    "        [None, 6, 0, \"Test\", 0, 0, 0, \"Test Sentence 5\"],\n",
    "    ],\n",
    "    \"entity\": [\n",
    "        [None, 1, 82, \"Test\", \"Test Entity 1\", \"Test\", \"Test\", 0, 0, 0],\n",
    "        [None, 2, 102, \"Test\", \"Test Entity 2\", \"Test\", \"Test\", 0, 0, 0],\n",
    "        [None, 3, 34, \"Test\", \"Test Entity 3\", \"Test\", \"Test\", 0, 0, 0],\n",
    "        [None, 4, 6, \"Test\", \"Test Entity 4\", \"Test\", \"Test\", 0, 0, 0],\n",
    "        [None, 5, 18, \"Test\", \"Test Entity 5\", \"Test\", \"Test\", 0, 0, 0],\n",
    "    ]\n",
    "}\n",
    "\n",
    "test_cmds = []\n",
    "for cat in categories:\n",
    "\n",
    "    for row in test_data[cat]:\n",
    "        cmd = create_node(row, cat, col_labels[cat])\n",
    "        test_cmds.append(cmd)\n",
    "\n",
    "\n",
    "for i, cmd in enumerate(test_cmds):\n",
    "    if i == 0:\n",
    "        print(f\"\\n{'-'*20}Predication Cmds{'-'*20}\")\n",
    "    elif i == 5:\n",
    "        print(f\"\\n{'-'*20}Sentence Cmds{'-'*20}\")\n",
    "    elif i==10:\n",
    "        print(f\"\\n{'-'*20}Entity Cmds{'-'*20}\")\n",
    "    print(f\"{i}.\\t{cmd}\\n\")\n",
    "\n",
    "relation_cmds = {\n",
    "    \"Predication -> Sentence\": {\n",
    "        \"category_one\": \"predication\",\n",
    "        \"category_two\": \"sentence\",\n",
    "        \"relation\": \"PREDICATE_OF\",\n",
    "        \"cmd\": None\n",
    "    },\n",
    "    \"Predication -> Entity Cmd\": {\n",
    "        \"category_one\": \"predication\",\n",
    "        \"category_two\": \"entity\",\n",
    "        \"relation\": \"PREDICATES\",\n",
    "        \"cmd\": None\n",
    "    },\n",
    "    \"Entity -> Sentence\": {\n",
    "        \"category_one\": \"entity\",\n",
    "        \"category_two\": \"sentence\",\n",
    "        \"relation\": \"SUBJECT_OF\",\n",
    "        \"cmd\": None\n",
    "    },\n",
    "}\n",
    "\n",
    "for key, value in relation_cmds.items():\n",
    "    \n",
    "    value[\"cmd\"] = create_relation(value[\"category_one\"], value[\"category_two\"], value[\"relation\"])\n",
    "    \n",
    "    print(f\"\\n{'-'*20}{key} Cmd{'-'*20}\")\n",
    "    print(f\"{value['cmd']}\\n\")"
   ]
  },
  {
   "cell_type": "markdown",
   "id": "65ded6ea-3c88-4caa-b0ba-03130b519227",
   "metadata": {},
   "source": [
    "## Command Execution"
   ]
  },
  {
   "cell_type": "code",
   "execution_count": 5,
   "id": "4f7aff60-e1fd-427e-9270-45941bcf05cc",
   "metadata": {},
   "outputs": [
    {
     "name": "stdout",
     "output_type": "stream",
     "text": [
      "Elapsed time: 0.11 seconds.\n"
     ]
    },
    {
     "data": {
      "text/plain": [
       "(0, [])"
      ]
     },
     "execution_count": 5,
     "metadata": {},
     "output_type": "execute_result"
    }
   ],
   "source": [
    "driver.execute_commands(test_cmds)"
   ]
  },
  {
   "cell_type": "code",
   "execution_count": 10,
   "id": "794a81fc-157a-40de-b9f8-4cd7199898a2",
   "metadata": {},
   "outputs": [
    {
     "data": {
      "text/html": [
       "<image src=\"../images/Example_CreatedNodes.png\" width=\"1080\" height=\"720\"></image>\n"
      ],
      "text/plain": [
       "<IPython.core.display.HTML object>"
      ]
     },
     "metadata": {},
     "output_type": "display_data"
    }
   ],
   "source": [
    "%%html\n",
    "<image src=\"../images/Example_CreatedNodes.png\" width=\"1080\" height=\"720\"></image>"
   ]
  },
  {
   "cell_type": "code",
   "execution_count": 11,
   "id": "0e670133-02fb-4625-8e14-7ce9ea449f54",
   "metadata": {},
   "outputs": [
    {
     "name": "stdout",
     "output_type": "stream",
     "text": [
      "Elapsed time: 0.02 seconds.\n",
      "Elapsed time: 0.01 seconds.\n",
      "Elapsed time: 0.01 seconds.\n"
     ]
    }
   ],
   "source": [
    "for _, value in relation_cmds.items():\n",
    "    cmd = value[\"cmd\"]\n",
    "    driver.execute_command(cmd)"
   ]
  },
  {
   "cell_type": "code",
   "execution_count": 12,
   "id": "256fca90-64e6-4b3c-ac5c-1eb99200b61b",
   "metadata": {},
   "outputs": [
    {
     "data": {
      "text/html": [
       "<img src=\"../images/Example_CreatedRelations.png\" width=\"1080\" height=\"720\"></img>\n"
      ],
      "text/plain": [
       "<IPython.core.display.HTML object>"
      ]
     },
     "metadata": {},
     "output_type": "display_data"
    }
   ],
   "source": [
    "%%html\n",
    "<img src=\"../images/Example_CreatedRelations.png\" width=\"1080\" height=\"720\"></img>"
   ]
  }
 ],
 "metadata": {
  "kernelspec": {
   "display_name": "Python 3 (ipykernel)",
   "language": "python",
   "name": "python3"
  },
  "language_info": {
   "codemirror_mode": {
    "name": "ipython",
    "version": 3
   },
   "file_extension": ".py",
   "mimetype": "text/x-python",
   "name": "python",
   "nbconvert_exporter": "python",
   "pygments_lexer": "ipython3",
   "version": "3.12.4"
  }
 },
 "nbformat": 4,
 "nbformat_minor": 5
}
